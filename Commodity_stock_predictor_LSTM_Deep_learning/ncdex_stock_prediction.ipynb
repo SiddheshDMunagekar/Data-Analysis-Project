{
  "nbformat": 4,
  "nbformat_minor": 0,
  "metadata": {
    "colab": {
      "name": "ncdex_stock_prediction.ipynb",
      "provenance": [],
      "collapsed_sections": []
    },
    "kernelspec": {
      "name": "python3",
      "display_name": "Python 3"
    }
  },
  "cells": [
    {
      "cell_type": "code",
      "metadata": {
        "id": "llmUEF59UH4R",
        "colab": {
          "base_uri": "https://localhost:8080/"
        },
        "outputId": "e1aa3b5d-fee7-4d9d-d41b-d353ebb5d5c1"
      },
      "source": [
        "import numpy as np\r\n",
        "import matplotlib.pyplot as plt\r\n",
        "import pandas as pd\r\n",
        "from google.colab import drive\r\n",
        "drive.mount('/content/drive')"
      ],
      "execution_count": 2,
      "outputs": [
        {
          "output_type": "stream",
          "text": [
            "Mounted at /content/drive\n"
          ],
          "name": "stdout"
        }
      ]
    },
    {
      "cell_type": "code",
      "metadata": {
        "id": "xuYQ6mqMjP5d",
        "colab": {
          "base_uri": "https://localhost:8080/"
        },
        "outputId": "f76c4801-121b-49f9-d7f2-a961f5a80c87"
      },
      "source": [
        "df= pd.read_csv('/content/drive/MyDrive/NCDEX/ncdex_stock_data.csv')\r\n",
        "df.shape"
      ],
      "execution_count": 3,
      "outputs": [
        {
          "output_type": "execute_result",
          "data": {
            "text/plain": [
              "(4087, 19)"
            ]
          },
          "metadata": {
            "tags": []
          },
          "execution_count": 3
        }
      ]
    },
    {
      "cell_type": "code",
      "metadata": {
        "id": "xp9jB3MjVNm5"
      },
      "source": [
        "df.head()\r\n",
        "df=df[['Commodity','Closing Price']]\r\n",
        "df=df.dropna(subset=['Closing Price'])\r\n",
        "\r\n",
        "commodity_list=df['Commodity'].unique().tolist()\r\n"
      ],
      "execution_count": 4,
      "outputs": []
    },
    {
      "cell_type": "code",
      "metadata": {
        "id": "ash2-fGOjYZz",
        "colab": {
          "base_uri": "https://localhost:8080/"
        },
        "outputId": "dcdc4436-4703-4edd-dcd8-83e027cf2557"
      },
      "source": [
        "df['Commodity'].value_counts()\r\n",
        "\r\n"
      ],
      "execution_count": 5,
      "outputs": [
        {
          "output_type": "execute_result",
          "data": {
            "text/plain": [
              "SOY_OIL                   337\n",
              "COTTON29MM                292\n",
              "SOYABEAN                  251\n",
              "RAPE_MUSTARD_SEEDS        248\n",
              "SUGARM                    234\n",
              "CRUDE_PALM_OIL            220\n",
              "COTTONSEEDOILCAKEAKOLA    205\n",
              "CASTORSEEDNEW             205\n",
              "CHANA                     205\n",
              "GUARGUM_5MT               205\n",
              "WHEATKOTA                 205\n",
              "MAIZEKHARIF               205\n",
              "GUAR_SEED10               205\n",
              "BARLEY                    204\n",
              "TURMERIC                  190\n",
              "JEERA                     161\n",
              "CORIANDER                 161\n",
              "PEPPER                    136\n",
              "KAPASNEW                   89\n",
              "MAIZERABI                  83\n",
              "NCDEX FUTURE INDEX         44\n",
              "Name: Commodity, dtype: int64"
            ]
          },
          "metadata": {
            "tags": []
          },
          "execution_count": 5
        }
      ]
    },
    {
      "cell_type": "code",
      "metadata": {
        "id": "HzavN7JVHGJf"
      },
      "source": [
        "df1 =df[df['Commodity']=='SOY_OIL'].reset_index(drop =True)['Closing Price']"
      ],
      "execution_count": 6,
      "outputs": []
    },
    {
      "cell_type": "code",
      "metadata": {
        "colab": {
          "base_uri": "https://localhost:8080/"
        },
        "id": "jK2nCaqWIYrc",
        "outputId": "769786ee-5c08-4d59-bc38-bb8e5c75379f"
      },
      "source": [
        "len(df1)"
      ],
      "execution_count": 7,
      "outputs": [
        {
          "output_type": "execute_result",
          "data": {
            "text/plain": [
              "337"
            ]
          },
          "metadata": {
            "tags": []
          },
          "execution_count": 7
        }
      ]
    },
    {
      "cell_type": "code",
      "metadata": {
        "colab": {
          "base_uri": "https://localhost:8080/",
          "height": 282
        },
        "id": "erc0Pz3DVrP3",
        "outputId": "b07c5074-78b3-4322-8bee-602ac716d077"
      },
      "source": [
        "plt.plot(df1)"
      ],
      "execution_count": 8,
      "outputs": [
        {
          "output_type": "execute_result",
          "data": {
            "text/plain": [
              "[<matplotlib.lines.Line2D at 0x7f73a3bef278>]"
            ]
          },
          "metadata": {
            "tags": []
          },
          "execution_count": 8
        },
        {
          "output_type": "display_data",
          "data": {
            "image/png": "[encoded data removed]",
            "text/plain": [
              "<Figure size 432x288 with 1 Axes>"
            ]
          },
          "metadata": {
            "tags": [],
            "needs_background": "light"
          }
        }
      ]
    },
    {
      "cell_type": "code",
      "metadata": {
        "id": "n34alprrWmNY"
      },
      "source": [
        "from sklearn.preprocessing import MinMaxScaler\r\n",
        "scaler=MinMaxScaler(feature_range=(0,1))\r\n",
        "df1=scaler.fit_transform(np.array(df1).reshape(-1,1))"
      ],
      "execution_count": 9,
      "outputs": []
    },
    {
      "cell_type": "code",
      "metadata": {
        "id": "E5CLbcljXNUA"
      },
      "source": [
        ""
      ],
      "execution_count": 9,
      "outputs": []
    },
    {
      "cell_type": "code",
      "metadata": {
        "id": "d1Kq4qKXZBCu"
      },
      "source": [
        "##Spitting dataset into train test split\r\n",
        "training_size=int(len(df1)*0.75)\r\n",
        "test_size=len(df1)-training_size\r\n",
        "train_set,test_set=df1[0:training_size,:],df1[training_size:len(df1),:1]"
      ],
      "execution_count": 10,
      "outputs": []
    },
    {
      "cell_type": "markdown",
      "metadata": {
        "id": "deCcPPB9lys3"
      },
      "source": [
        "## Splitting the train_set into X_train , y_train and test_set into X_test,y_test"
      ]
    },
    {
      "cell_type": "code",
      "metadata": {
        "id": "gD4yGoP8aIXk"
      },
      "source": [
        "#Convert array of values into dataset_matrix\r\n",
        "def create_dataset(dataset,time_step):\r\n",
        "  dataX,dataY=[],[]\r\n",
        "  for i in range(len(dataset)-time_step-1):\r\n",
        "    a=dataset[i:(i+time_step),0]\r\n",
        "    dataX.append(a)\r\n",
        "    dataY.append(dataset[i+time_step,0])\r\n",
        "  return np.array(dataX),np.array(dataY)"
      ],
      "execution_count": 11,
      "outputs": []
    },
    {
      "cell_type": "code",
      "metadata": {
        "id": "fcL8oIYaauzd"
      },
      "source": [
        "time_step=10\r\n",
        "X_train,y_train=create_dataset(train_set,time_step)\r\n",
        "X_test,y_test=create_dataset(test_set,time_step)\r\n"
      ],
      "execution_count": 12,
      "outputs": []
    },
    {
      "cell_type": "code",
      "metadata": {
        "colab": {
          "base_uri": "https://localhost:8080/"
        },
        "id": "tLMezFOSmyR5",
        "outputId": "74f20e07-8831-4f1e-9100-9e1992430270"
      },
      "source": [
        "print(X_train.shape)\r\n",
        "print(X_test.shape)"
      ],
      "execution_count": 13,
      "outputs": [
        {
          "output_type": "stream",
          "text": [
            "(241, 10)\n",
            "(74, 10)\n"
          ],
          "name": "stdout"
        }
      ]
    },
    {
      "cell_type": "code",
      "metadata": {
        "id": "Zmki6bKno9cj"
      },
      "source": [
        "#reshape input as [samples,time_step,feature] convert it to 3 dimentional array as required by LSTM\r\n",
        "X_train=X_train.reshape(X_train.shape[0],X_train.shape[1],1)\r\n",
        "X_test= X_test.reshape(X_test.shape[0],X_test.shape[1],1)"
      ],
      "execution_count": 14,
      "outputs": []
    },
    {
      "cell_type": "code",
      "metadata": {
        "id": "z2DiNB3EtkUV"
      },
      "source": [
        "#Creating a stacked LSTM model\r\n",
        "from tensorflow.keras.models import Sequential\r\n",
        "from tensorflow.keras.layers import Dense,LSTM,Flatten\r\n",
        "\r\n",
        "model=Sequential()\r\n",
        "model.add(LSTM(50,return_sequences=True,input_shape=(time_step,1)))\r\n",
        "model.add(LSTM(50,return_sequences=True))\r\n",
        "model.add(LSTM(50))\r\n",
        "model.add(Dense(1))\r\n",
        "model.compile(loss='mean_squared_error',optimizer='adam')\r\n",
        "\r\n",
        "\r\n",
        "\r\n"
      ],
      "execution_count": 15,
      "outputs": []
    },
    {
      "cell_type": "code",
      "metadata": {
        "colab": {
          "base_uri": "https://localhost:8080/"
        },
        "id": "2kC0o-KFy0cx",
        "outputId": "12d028fe-359e-4e9e-ce50-a619df22e7f9"
      },
      "source": [
        "model.fit(X_train,y_train,validation_data=(X_test,y_test),epochs=100,batch_size=64,verbose=0)"
      ],
      "execution_count": 16,
      "outputs": [
        {
          "output_type": "execute_result",
          "data": {
            "text/plain": [
              "<tensorflow.python.keras.callbacks.History at 0x7f735e44c828>"
            ]
          },
          "metadata": {
            "tags": []
          },
          "execution_count": 16
        }
      ]
    },
    {
      "cell_type": "code",
      "metadata": {
        "id": "wiAxpeG94-hc"
      },
      "source": [
        "train_predict=model.predict(X_train)\r\n",
        "test_predict=model.predict(X_test)"
      ],
      "execution_count": 17,
      "outputs": []
    },
    {
      "cell_type": "code",
      "metadata": {
        "colab": {
          "base_uri": "https://localhost:8080/"
        },
        "id": "Oh11v7h26swY",
        "outputId": "76ab58dd-6dbe-413b-ec02-18cc4707a2f4"
      },
      "source": [
        "import math\r\n",
        "from sklearn.metrics import mean_squared_error\r\n",
        "math.sqrt(mean_squared_error(y_train,train_predict))\r\n",
        "math.sqrt(mean_squared_error(y_test,test_predict))"
      ],
      "execution_count": 18,
      "outputs": [
        {
          "output_type": "execute_result",
          "data": {
            "text/plain": [
              "0.1675472236363286"
            ]
          },
          "metadata": {
            "tags": []
          },
          "execution_count": 18
        }
      ]
    },
    {
      "cell_type": "code",
      "metadata": {
        "id": "RljGebUR8D4t"
      },
      "source": [
        "\r\n"
      ],
      "execution_count": 18,
      "outputs": []
    },
    {
      "cell_type": "code",
      "metadata": {
        "colab": {
          "base_uri": "https://localhost:8080/"
        },
        "id": "KlBH9AQmIR7E",
        "outputId": "ae0a3e88-a255-49ed-b2c1-aadf2653fd51"
      },
      "source": [
        "len(test_set)-time_step"
      ],
      "execution_count": 19,
      "outputs": [
        {
          "output_type": "execute_result",
          "data": {
            "text/plain": [
              "75"
            ]
          },
          "metadata": {
            "tags": []
          },
          "execution_count": 19
        }
      ]
    },
    {
      "cell_type": "code",
      "metadata": {
        "id": "5wlmpv9i_Czv"
      },
      "source": [
        "x_input=test_set[(len(test_set)-time_step):].reshape(1,-1)"
      ],
      "execution_count": 20,
      "outputs": []
    },
    {
      "cell_type": "code",
      "metadata": {
        "colab": {
          "base_uri": "https://localhost:8080/"
        },
        "id": "r8-5SnheADhu",
        "outputId": "9f2d7d33-a3fd-4bd0-bd25-00344bdd092f"
      },
      "source": [
        "x_input.shape"
      ],
      "execution_count": 21,
      "outputs": [
        {
          "output_type": "execute_result",
          "data": {
            "text/plain": [
              "(1, 10)"
            ]
          },
          "metadata": {
            "tags": []
          },
          "execution_count": 21
        }
      ]
    },
    {
      "cell_type": "code",
      "metadata": {
        "id": "EmviTtpeMjlp"
      },
      "source": [
        "#Converting it to list\r\n",
        "temp_input=list(x_input)\r\n",
        "#Arranging list vertically\r\n",
        "temp_input=temp_input[0].tolist()"
      ],
      "execution_count": 22,
      "outputs": []
    },
    {
      "cell_type": "code",
      "metadata": {
        "colab": {
          "base_uri": "https://localhost:8080/"
        },
        "id": "QOR9UCNpM6pb",
        "outputId": "29ddcd77-f5b1-476c-f8cb-a81b0a01791c"
      },
      "source": [
        "temp_input"
      ],
      "execution_count": 23,
      "outputs": [
        {
          "output_type": "execute_result",
          "data": {
            "text/plain": [
              "[0.434812760055479,\n",
              " 0.45561719833564496,\n",
              " 0.9396671289875176,\n",
              " 0.8758668515950063,\n",
              " 0.7836338418862692,\n",
              " 0.6900138696255205,\n",
              " 0.414008321775313,\n",
              " 0.434812760055479,\n",
              " 0.45561719833564496,\n",
              " 0.45561719833564496]"
            ]
          },
          "metadata": {
            "tags": []
          },
          "execution_count": 23
        }
      ]
    },
    {
      "cell_type": "code",
      "metadata": {
        "colab": {
          "base_uri": "https://localhost:8080/"
        },
        "id": "xG1DeWrpNXSW",
        "outputId": "5c1ac8ca-1d0e-4abf-d4ee-e9b5024268df"
      },
      "source": [
        "#demonstrate prediction for next 10 days\r\n",
        "from numpy import array\r\n",
        "lst_output=[]\r\n",
        "future_day=10\r\n",
        "n_steps=10\r\n",
        "i=0\r\n",
        "#Forcast next 10 days output\r\n",
        "while(i<future_day):\r\n",
        "\r\n",
        "  if(len(temp_input) >10):\r\n",
        "\r\n",
        "    x_input=np.array(temp_input[1:])\r\n",
        "    print(\"{} day input {}\".format(i,x_input))\r\n",
        "    x_input=x_input.reshape(1,-1)\r\n",
        "    #Converting to 3d array for lstm\r\n",
        "    x_input=x_input.reshape(1,n_steps,1)\r\n",
        "    #print(x_input)\r\n",
        "    ypred=model.predict(x_input,verbose=0)\r\n",
        "    print(\"{} day predicted output {}\".format(i,ypred))\r\n",
        "    #adding predicted output  to temp_input list\r\n",
        "    temp_input.extend(ypred[0].tolist())\r\n",
        "    temp_input=temp_input[1:]\r\n",
        "\r\n",
        "    #print(temp_input)\r\n",
        "    lst_output.extend(ypred.tolist())\r\n",
        "    i=i+1\r\n",
        "  else:\r\n",
        "    x_input=x_input.reshape((1,n_steps,1))\r\n",
        "    ypred=model.predict(x_input,verbose=0)\r\n",
        "    print(\"Predicted y of 0 day\",ypred[0])\r\n",
        "    #Addding ypred value in temp_input(previous input)\r\n",
        "    temp_input.extend(ypred[0].tolist())\r\n",
        "    print(len(temp_input))\r\n",
        "    lst_output.extend(ypred.tolist())\r\n",
        "    i=i+1\r\n",
        "\r\n",
        "print(lst_output)\r\n",
        "\r\n",
        "\r\n"
      ],
      "execution_count": 24,
      "outputs": [
        {
          "output_type": "stream",
          "text": [
            "Predicted y of 0 day [0.71551657]\n",
            "11\n",
            "1 day input [0.4556172  0.93966713 0.87586685 0.78363384 0.69001387 0.41400832\n",
            " 0.43481276 0.4556172  0.4556172  0.71551657]\n",
            "1 day predicted output [[0.84088725]]\n",
            "2 day input [0.93966713 0.87586685 0.78363384 0.69001387 0.41400832 0.43481276\n",
            " 0.4556172  0.4556172  0.71551657 0.84088725]\n",
            "2 day predicted output [[0.8545114]]\n",
            "3 day input [0.87586685 0.78363384 0.69001387 0.41400832 0.43481276 0.4556172\n",
            " 0.4556172  0.71551657 0.84088725 0.85451138]\n",
            "3 day predicted output [[0.6212846]]\n",
            "4 day input [0.78363384 0.69001387 0.41400832 0.43481276 0.4556172  0.4556172\n",
            " 0.71551657 0.84088725 0.85451138 0.6212846 ]\n",
            "4 day predicted output [[0.42886162]]\n",
            "5 day input [0.69001387 0.41400832 0.43481276 0.4556172  0.4556172  0.71551657\n",
            " 0.84088725 0.85451138 0.6212846  0.42886162]\n",
            "5 day predicted output [[0.34810415]]\n",
            "6 day input [0.41400832 0.43481276 0.4556172  0.4556172  0.71551657 0.84088725\n",
            " 0.85451138 0.6212846  0.42886162 0.34810415]\n",
            "6 day predicted output [[0.37916073]]\n",
            "7 day input [0.43481276 0.4556172  0.4556172  0.71551657 0.84088725 0.85451138\n",
            " 0.6212846  0.42886162 0.34810415 0.37916073]\n",
            "7 day predicted output [[0.5307068]]\n",
            "8 day input [0.4556172  0.4556172  0.71551657 0.84088725 0.85451138 0.6212846\n",
            " 0.42886162 0.34810415 0.37916073 0.53070682]\n",
            "8 day predicted output [[0.6861416]]\n",
            "9 day input [0.4556172  0.71551657 0.84088725 0.85451138 0.6212846  0.42886162\n",
            " 0.34810415 0.37916073 0.53070682 0.68614161]\n",
            "9 day predicted output [[0.78588617]]\n",
            "[[0.7155165672302246], [0.8408872485160828], [0.8545113801956177], [0.6212846040725708], [0.4288616180419922], [0.3481041491031647], [0.37916073203086853], [0.5307068228721619], [0.6861416101455688], [0.7858861684799194]]\n"
          ],
          "name": "stdout"
        }
      ]
    },
    {
      "cell_type": "code",
      "metadata": {
        "id": "RoRA0xK9Plzy"
      },
      "source": [
        "previous_days=np.arange(1,n_steps+1)\r\n",
        "predicted_future=np.arange(n_steps+1,future_day+ n_steps+1)"
      ],
      "execution_count": 25,
      "outputs": []
    },
    {
      "cell_type": "code",
      "metadata": {
        "colab": {
          "base_uri": "https://localhost:8080/"
        },
        "id": "jYTeJHUnTHyy",
        "outputId": "b71f4dca-a457-427e-f203-0b38b21950ee"
      },
      "source": [
        "print(previous_days)\r\n",
        "print(predicted_future)"
      ],
      "execution_count": 27,
      "outputs": [
        {
          "output_type": "stream",
          "text": [
            "[ 1  2  3  4  5  6  7  8  9 10]\n",
            "[11 12 13 14 15 16 17 18 19 20]\n"
          ],
          "name": "stdout"
        }
      ]
    },
    {
      "cell_type": "code",
      "metadata": {
        "colab": {
          "base_uri": "https://localhost:8080/"
        },
        "id": "68l4-TqNbEND",
        "outputId": "f3b1b04b-043d-434b-a785-5ccb965fb820"
      },
      "source": [
        "outputlist=df1.tolist()\r\n",
        "outputlist.extend(lst_output)\r\n",
        "df1[len(df1)-n_steps:]"
      ],
      "execution_count": 29,
      "outputs": [
        {
          "output_type": "execute_result",
          "data": {
            "text/plain": [
              "array([[0.43481276],\n",
              "       [0.4556172 ],\n",
              "       [0.93966713],\n",
              "       [0.87586685],\n",
              "       [0.78363384],\n",
              "       [0.69001387],\n",
              "       [0.41400832],\n",
              "       [0.43481276],\n",
              "       [0.4556172 ],\n",
              "       [0.4556172 ]])"
            ]
          },
          "metadata": {
            "tags": []
          },
          "execution_count": 29
        }
      ]
    },
    {
      "cell_type": "code",
      "metadata": {
        "colab": {
          "base_uri": "https://localhost:8080/"
        },
        "id": "ROfYyysncSaZ",
        "outputId": "8a3d4e92-cad2-4229-a66f-91fa693934f2"
      },
      "source": [
        "lst_output"
      ],
      "execution_count": 30,
      "outputs": [
        {
          "output_type": "execute_result",
          "data": {
            "text/plain": [
              "[[0.7155165672302246],\n",
              " [0.8408872485160828],\n",
              " [0.8545113801956177],\n",
              " [0.6212846040725708],\n",
              " [0.4288616180419922],\n",
              " [0.3481041491031647],\n",
              " [0.37916073203086853],\n",
              " [0.5307068228721619],\n",
              " [0.6861416101455688],\n",
              " [0.7858861684799194]]"
            ]
          },
          "metadata": {
            "tags": []
          },
          "execution_count": 30
        }
      ]
    },
    {
      "cell_type": "code",
      "metadata": {
        "colab": {
          "base_uri": "https://localhost:8080/",
          "height": 282
        },
        "id": "5iKdRvvubS7o",
        "outputId": "5e6ce05d-da92-4aa5-8015-16a57385f418"
      },
      "source": [
        "#Selecting last 10 days input from the dataframe df1 for first plot\r\n",
        "plt.plot(previous_days,scaler.inverse_transform(df1[len(df1)-n_steps:]))\r\n",
        "#Selecting predicted output from the listof the above function\r\n",
        "plt.plot(predicted_future,scaler.inverse_transform(lst_output))"
      ],
      "execution_count": 31,
      "outputs": [
        {
          "output_type": "execute_result",
          "data": {
            "text/plain": [
              "[<matplotlib.lines.Line2D at 0x7f73599a1e80>]"
            ]
          },
          "metadata": {
            "tags": []
          },
          "execution_count": 31
        },
        {
          "output_type": "display_data",
          "data": {
            "image/png": "[encoded data removed]",
            "text/plain": [
              "<Figure size 432x288 with 1 Axes>"
            ]
          },
          "metadata": {
            "tags": [],
            "needs_background": "light"
          }
        }
      ]
    },
    {
      "cell_type": "code",
      "metadata": {
        "colab": {
          "base_uri": "https://localhost:8080/",
          "height": 282
        },
        "id": "HeidnZlgCqLu",
        "outputId": "834f74d5-15df-46eb-964f-8285ea83a970"
      },
      "source": [
        "plt.plot(scaler.inverse_transform(outputlist[len(df1)-n_steps-1:]))\r\n",
        "plt.plot(predicted_future,scaler.inverse_transform(lst_output))"
      ],
      "execution_count": 42,
      "outputs": [
        {
          "output_type": "execute_result",
          "data": {
            "text/plain": [
              "[<matplotlib.lines.Line2D at 0x7f73595d00b8>]"
            ]
          },
          "metadata": {
            "tags": []
          },
          "execution_count": 42
        },
        {
          "output_type": "display_data",
          "data": {
            "image/png": "[encoded data removed]",
            "text/plain": [
              "<Figure size 432x288 with 1 Axes>"
            ]
          },
          "metadata": {
            "tags": [],
            "needs_background": "light"
          }
        }
      ]
    }
  ]
}